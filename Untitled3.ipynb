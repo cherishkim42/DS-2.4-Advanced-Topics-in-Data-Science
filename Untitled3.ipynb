{
 "cells": [
  {
   "cell_type": "markdown",
   "metadata": {},
   "source": [
    "# Advanced Keras"
   ]
  },
  {
   "cell_type": "markdown",
   "metadata": {},
   "source": [
    "Toy video-QA problem\n",
    "\n",
    "Text-to-sequence is like data preprocessing\n",
    "\n",
    "We're just focusing on keras MODELS in notes etc. that are labeled \"Advanced Keras\".\n",
    "\n",
    "LSTM, text-to-sequence.\n",
    "\n",
    "In DL, we had two types of models: regression and classification. But these two categories don't encompass all objective functions or all models we're trying to tackle/solve in DL.\n",
    "\n",
    "Is it possible to define a _Custom Loss Function_? In Keras we can define a new metric. ( http://faroit.com/keras-docs/2.0.2/backend/ )\n",
    "\n",
    "# Custom Loss Function"
   ]
  },
  {
   "cell_type": "code",
   "execution_count": 3,
   "metadata": {},
   "outputs": [
    {
     "name": "stdout",
     "output_type": "stream",
     "text": [
      "Tensor(\"Sum_2:0\", shape=(), dtype=int64)\n",
      "6\n"
     ]
    },
    {
     "data": {
      "text/plain": [
       "2.0"
      ]
     },
     "execution_count": 3,
     "metadata": {},
     "output_type": "execute_result"
    }
   ],
   "source": [
    "from keras import backend as K\n",
    "import numpy as np\n",
    "\n",
    "a = np.array([1, 2, 3])\n",
    "b = K.sum(a, axis=-1)\n",
    "print(b)\n",
    "print(K.eval(b))\n",
    "# c = K.mean(K.variable(a), axis=-1)\n",
    "c = K.mean(K.constant(a), axis=-1)\n",
    "\n",
    "K.eval(c) #(1+2+3)/3"
   ]
  },
  {
   "cell_type": "code",
   "execution_count": 4,
   "metadata": {},
   "outputs": [
    {
     "name": "stdout",
     "output_type": "stream",
     "text": [
      "WARNING:tensorflow:From /Users/cherishkim/anaconda3/lib/python3.7/site-packages/tensorflow/python/framework/op_def_library.py:263: colocate_with (from tensorflow.python.framework.ops) is deprecated and will be removed in a future version.\n",
      "Instructions for updating:\n",
      "Colocations handled automatically by placer.\n"
     ]
    },
    {
     "data": {
      "text/plain": [
       "0.10536052"
      ]
     },
     "execution_count": 4,
     "metadata": {},
     "output_type": "execute_result"
    }
   ],
   "source": [
    "import keras\n",
    "\n",
    "y = K.variable(np.array([0, 1]))\n",
    "yhat = K.variable(np.array([0.1, 0.9]))\n",
    "K.eval(keras.losses.binary_crossentropy(y, yhat))"
   ]
  },
  {
   "cell_type": "markdown",
   "metadata": {},
   "source": [
    "# Triplet NN Test on MNIST?"
   ]
  },
  {
   "cell_type": "code",
   "execution_count": null,
   "metadata": {},
   "outputs": [],
   "source": []
  }
 ],
 "metadata": {
  "kernelspec": {
   "display_name": "Python 3",
   "language": "python",
   "name": "python3"
  },
  "language_info": {
   "codemirror_mode": {
    "name": "ipython",
    "version": 3
   },
   "file_extension": ".py",
   "mimetype": "text/x-python",
   "name": "python",
   "nbconvert_exporter": "python",
   "pygments_lexer": "ipython3",
   "version": "3.7.1"
  }
 },
 "nbformat": 4,
 "nbformat_minor": 2
}
