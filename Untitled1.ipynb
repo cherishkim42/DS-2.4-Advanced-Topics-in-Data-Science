{
 "cells": [
  {
   "cell_type": "markdown",
   "metadata": {},
   "source": [
    "# Intro to Recommender Systems\n",
    "\n",
    "### Content-based recommender system (RS)\n",
    "\n",
    "We have a couple of items (movies)\n",
    "We have a couple of users (persons)\n",
    "\n",
    "1. Have description/features of movies (<i>or w/e items</i>) ready\n",
    "1. Build TF-IDF matrix to vectorize it all (<i>item description gets \"represented/encoded\" by TF-IDF</i>)\n",
    "1. Similarity matrix, where similarity is computed using <b>cosine</b> function\n",
    "\n",
    "Determining similarity between <b>two items</b> using COSINE: <b>1</b> means similar af, <b>-1</b> means dissimilar af, <b>0</b> means lol nothing here folks!\n",
    "\n",
    "### Collaborative filtering\n",
    "\n",
    "User-user similarity\n",
    "Item-item similarity\n",
    "\n",
    "These scores will also range between -1 and 1, with the same standards of assessment as above.\n",
    "\n",
    "The formulas labeled \"The estaimation for prediction of rating for user-user collab filtering\" --> Users U and V, "
   ]
  },
  {
   "cell_type": "code",
   "execution_count": null,
   "metadata": {},
   "outputs": [],
   "source": []
  }
 ],
 "metadata": {
  "kernelspec": {
   "display_name": "Python 3",
   "language": "python",
   "name": "python3"
  },
  "language_info": {
   "codemirror_mode": {
    "name": "ipython",
    "version": 3
   },
   "file_extension": ".py",
   "mimetype": "text/x-python",
   "name": "python",
   "nbconvert_exporter": "python",
   "pygments_lexer": "ipython3",
   "version": "3.7.1"
  }
 },
 "nbformat": 4,
 "nbformat_minor": 2
}
