{
 "cells": [
  {
   "cell_type": "markdown",
   "metadata": {},
   "source": [
    "# Image Semantic Segmentation"
   ]
  },
  {
   "cell_type": "code",
   "execution_count": 5,
   "metadata": {},
   "outputs": [
    {
     "name": "stdout",
     "output_type": "stream",
     "text": [
      "\u001b[31mstage1_sample_submission.csv\u001b[m\u001b[m*       \u001b[31mstage1_train_labels.csv\u001b[m\u001b[m*\r\n",
      "\u001b[31mstage1_solution.csv\u001b[m\u001b[m*                \u001b[31mstage2_sample_submission_final.csv\u001b[m\u001b[m*\r\n",
      "\u001b[31mstage1_test.zip\u001b[m\u001b[m*                    \u001b[31mstage2_test_final.zip\u001b[m\u001b[m*\r\n",
      "\u001b[31mstage1_train.zip\u001b[m\u001b[m*\r\n"
     ]
    }
   ],
   "source": [
    "ls"
   ]
  },
  {
   "cell_type": "code",
   "execution_count": null,
   "metadata": {},
   "outputs": [],
   "source": []
  }
 ],
 "metadata": {
  "kernelspec": {
   "display_name": "Python 3",
   "language": "python",
   "name": "python3"
  },
  "language_info": {
   "codemirror_mode": {
    "name": "ipython",
    "version": 3
   },
   "file_extension": ".py",
   "mimetype": "text/x-python",
   "name": "python",
   "nbconvert_exporter": "python",
   "pygments_lexer": "ipython3",
   "version": "3.7.1"
  }
 },
 "nbformat": 4,
 "nbformat_minor": 2
}
